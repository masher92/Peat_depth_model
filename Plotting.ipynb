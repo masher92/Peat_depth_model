{
 "cells": [
  {
   "cell_type": "code",
   "execution_count": 3,
   "metadata": {},
   "outputs": [
    {
     "name": "stderr",
     "output_type": "stream",
     "text": [
      "Warning message:\n",
      "\"package 'rgdal' was built under R version 3.5.3\"Loading required package: sp\n",
      "Warning message:\n",
      "\"package 'sp' was built under R version 3.5.3\"rgdal: version: 1.4-3, (SVN revision 828)\n",
      " Geospatial Data Abstraction Library extensions to R successfully loaded\n",
      " Loaded GDAL runtime: GDAL 2.2.3, released 2017/11/20\n",
      " Path to GDAL shared files: C:/Users/Molly/Anaconda3/envs/My_R_Environment/Lib/R/library/rgdal/gdal\n",
      " GDAL binary built with GEOS: TRUE \n",
      " Loaded PROJ.4 runtime: Rel. 4.9.3, 15 August 2016, [PJ_VERSION: 493]\n",
      " Path to PROJ.4 shared files: C:/Users/Molly/Anaconda3/envs/My_R_Environment/Lib/R/library/rgdal/proj\n",
      " Linking to sp version: 1.3-1 \n"
     ]
    }
   ],
   "source": [
    "chooseCRANmirror(graphics=FALSE, ind=1)\n",
    "options(repos = getOption(\"repos\")[\"CRAN\"])\n",
    "#install.packages(\"leaflet\")\n",
    "#library(knitr)\n",
    "##library(kableExtra)\n",
    "library(rgdal)\n",
    "#library(leaflet)\n",
    "#library(raster)\n",
    "#library(geosphere)\n",
    "library(leaflet)"
   ]
  },
  {
   "cell_type": "code",
   "execution_count": 5,
   "metadata": {},
   "outputs": [
    {
     "name": "stdout",
     "output_type": "stream",
     "text": [
      "OGR data source with driver: ESRI Shapefile \n",
      "Source: \"E:\\Msc\\Dissertation\\Code\\Data\\Generated\", layer: \"humberstone\"\n",
      "with 707 features\n",
      "It has 4 fields\n"
     ]
    }
   ],
   "source": [
    "# Set working directory\n",
    "setwd(\"E:/Msc/Dissertation/Code\")\n",
    "#1. Read in data\n",
    "humberstone = readOGR(dsn = \"Data/Generated\", layer = \"humberstone\")\n",
    "humberstone <- spTransform(humberstone, CRS(\"+proj=longlat +datum=WGS84 +no_defs\"))\n",
    "\n",
    "# Read in AOI\n",
    "humberstone_aoi <- readOGR(dsn = \"Data/Input/Site_AOIs\", layer = \"Humberstone_AOI\", verbose = F)\n",
    "humberstone_aoi <- spTransform(humberstone_aoi, CRS(\"+proj=longlat +datum=WGS84 +no_defs\"))\n",
    "humberstone_aoi_df <- data.frame(humberstone_aoi)"
   ]
  },
  {
   "cell_type": "code",
   "execution_count": 14,
   "metadata": {
    "collapsed": true
   },
   "outputs": [],
   "source": [
    "library(repr)\n",
    "options(repr.plot.width=10, repr.plot.height=10)"
   ]
  },
  {
   "cell_type": "code",
   "execution_count": 26,
   "metadata": {
    "scrolled": true
   },
   "outputs": [
    {
     "data": {
      "text/html": [
       "<iframe src=\"myfigure2.html\" width=500, height=500></iframe> "
      ]
     },
     "metadata": {},
     "output_type": "display_data"
    },
    {
     "data": {
      "text/html": [
       "'C:/Users/Molly'"
      ],
      "text/latex": [
       "'C:/Users/Molly'"
      ],
      "text/markdown": [
       "'C:/Users/Molly'"
      ],
      "text/plain": [
       "[1] \"C:/Users/Molly\""
      ]
     },
     "metadata": {},
     "output_type": "display_data"
    }
   ],
   "source": [
    "# Change plot size to 4 x 3\n",
    "library(repr)\n",
    "options(repr.plot.width=10, repr.plot.height=20)\n",
    "setwd('C:/Users/Molly')\n",
    "m = leaflet() %>% \n",
    "  addProviderTiles(providers$OpenStreetMap) %>%  ## need to include this otherwise base maps do not appear in html output\n",
    "  addTiles() %>% \n",
    "  addCircles(data = humberstone, weight = 3, opacity =1,\n",
    "             label=as.character(humberstone$ID))\n",
    "  # Print the map\n",
    "tf = 'myfigure2.html'\n",
    "htmlwidgets::saveWidget(m, file = tf, selfcontained = F)\n",
    "#IRdisplay::display_html(paste(\"<iframe src=' \", tf, \" ' \",\"/>\"))\n",
    "IRdisplay::display_html('<iframe src=\"myfigure2.html\" width=500, height=500></iframe> ')\n",
    "\n",
    "getwd()"
   ]
  },
  {
   "cell_type": "code",
   "execution_count": null,
   "metadata": {},
   "outputs": [],
   "source": [
    "\n"
   ]
  }
 ],
 "metadata": {
  "kernelspec": {
   "display_name": "R",
   "language": "R",
   "name": "ir"
  },
  "language_info": {
   "codemirror_mode": "r",
   "file_extension": ".r",
   "mimetype": "text/x-r-source",
   "name": "R",
   "pygments_lexer": "r",
   "version": "3.5.1"
  }
 },
 "nbformat": 4,
 "nbformat_minor": 2
}
