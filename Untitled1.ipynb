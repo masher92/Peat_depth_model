{
 "cells": [
  {
   "cell_type": "code",
   "execution_count": 10,
   "metadata": {},
   "outputs": [
    {
     "ename": "ERROR",
     "evalue": "Error in parse(text = x, srcfile = src): <text>:15:1: unexpected input\n14: # Tell the notebook to do inline charts\n15: %matplotlib inline\n    ^\n",
     "output_type": "error",
     "traceback": [
      "Error in parse(text = x, srcfile = src): <text>:15:1: unexpected input\n14: # Tell the notebook to do inline charts\n15: %matplotlib inline\n    ^\nTraceback:\n"
     ]
    }
   ],
   "source": [
    "options(warn=-1)\n",
    "#hooseCRANmirror(graphics=FALSE, ind=1)\n",
    "options(repos = getOption(\"repos\")[\"CRAN\"])\n",
    "#install.packages(\"leaflet\")\n",
    "#library(knitr)\n",
    "##library(kableExtra)\n",
    "library(rgdal, quietly = TRUE)\n",
    "#library(leaflet)\n",
    "#library(raster)\n",
    "#library(geosphere)\n",
    "library(leaflet, quietly = TRUE)\n",
    "library(repr,quietly = TRUE)\n",
    "\n"
   ]
  },
  {
   "cell_type": "raw",
   "metadata": {},
   "source": [
    "# Tell the notebook to do inline charts\n",
    "%matplotlib inline"
   ]
  },
  {
   "cell_type": "code",
   "execution_count": 4,
   "metadata": {},
   "outputs": [
    {
     "name": "stdout",
     "output_type": "stream",
     "text": [
      "OGR data source with driver: ESRI Shapefile \n",
      "Source: \"E:\\Msc\\Dissertation\\Code\\Data\\Generated\", layer: \"humberstone\"\n",
      "with 707 features\n",
      "It has 4 fields\n"
     ]
    }
   ],
   "source": [
    "# Set working directory\n",
    "setwd(\"E:/Msc/Dissertation/Code\")\n",
    "#1. Read in data\n",
    "humberstone = readOGR(dsn = \"Data/Generated\", layer = \"humberstone\")\n",
    "humberstone <- spTransform(humberstone, CRS(\"+proj=longlat +datum=WGS84 +no_defs\"))\n",
    "\n",
    "# Read in AOI\n",
    "humberstone_aoi <- readOGR(dsn = \"Data/Input/Site_AOIs\", layer = \"Humberstone_AOI\", verbose = F)\n",
    "humberstone_aoi <- spTransform(humberstone_aoi, CRS(\"+proj=longlat +datum=WGS84 +no_defs\"))\n",
    "humberstone_aoi_df <- data.frame(humberstone_aoi)"
   ]
  },
  {
   "cell_type": "code",
   "execution_count": 6,
   "metadata": {
    "collapsed": true
   },
   "outputs": [],
   "source": [
    "options(repr.plot.width=10, repr.plot.height=10)"
   ]
  },
  {
   "cell_type": "code",
   "execution_count": 7,
   "metadata": {
    "scrolled": true
   },
   "outputs": [
    {
     "data": {
      "text/html": [
       "<iframe src=\"myfigure2.html\" width=500, height=500></iframe> "
      ]
     },
     "metadata": {},
     "output_type": "display_data"
    },
    {
     "data": {
      "text/html": [
       "'C:/Users/Molly'"
      ],
      "text/latex": [
       "'C:/Users/Molly'"
      ],
      "text/markdown": [
       "'C:/Users/Molly'"
      ],
      "text/plain": [
       "[1] \"C:/Users/Molly\""
      ]
     },
     "metadata": {},
     "output_type": "display_data"
    }
   ],
   "source": [
    "# Change plot size to 4 x 3\n",
    "library(repr)\n",
    "options(repr.plot.width=10, repr.plot.height=20)\n",
    "setwd('C:/Users/Molly')\n",
    "m = leaflet() %>% \n",
    "  addProviderTiles(providers$OpenStreetMap) %>%  ## need to include this otherwise base maps do not appear in html output\n",
    "  addTiles() %>% \n",
    "  addCircles(data = humberstone, weight = 3, opacity =1,\n",
    "             label=as.character(humberstone$ID))\n",
    "  # Print the map\n",
    "tf = 'myfigure2.html'\n",
    "htmlwidgets::saveWidget(m, file = tf, selfcontained = F)\n",
    "#IRdisplay::display_html(paste(\"<iframe src=' \", tf, \" ' \",\"/>\"))\n",
    "IRdisplay::display_html('<iframe src=\"myfigure2.html\" width=500, height=500></iframe> ')"
   ]
  },
  {
   "cell_type": "code",
   "execution_count": null,
   "metadata": {
    "collapsed": true
   },
   "outputs": [],
   "source": [
    "\n"
   ]
  }
 ],
 "metadata": {
  "kernelspec": {
   "display_name": "R",
   "language": "R",
   "name": "ir"
  },
  "language_info": {
   "codemirror_mode": "r",
   "file_extension": ".r",
   "mimetype": "text/x-r-source",
   "name": "R",
   "pygments_lexer": "r",
   "version": "3.5.1"
  }
 },
 "nbformat": 4,
 "nbformat_minor": 2
}
